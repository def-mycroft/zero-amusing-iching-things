{
 "cells": [
  {
   "cell_type": "code",
   "execution_count": 17,
   "id": "ceffeae9-fa15-4c68-a2f1-eb79c59a989b",
   "metadata": {},
   "outputs": [
    {
     "name": "stdout",
     "output_type": "stream",
     "text": [
      "The autoreload extension is already loaded. To reload it, use:\n",
      "  %reload_ext autoreload\n"
     ]
    }
   ],
   "source": [
    "%load_ext autoreload\n",
    "%autoreload 2"
   ]
  },
  {
   "cell_type": "code",
   "execution_count": null,
   "id": "1a452040-81c4-40a5-a7fc-0b2abe918603",
   "metadata": {},
   "outputs": [],
   "source": []
  },
  {
   "cell_type": "code",
   "execution_count": 18,
   "id": "9f305a32-13c6-4186-9453-db739ee877e4",
   "metadata": {},
   "outputs": [],
   "source": [
    "from zero_iching.uuid_diviner import hexagrams_from_uuid as hexes\n",
    "from zero_iching import helpers as hp\n",
    "from zero_iching.helpers import HEX_DESC as d\n",
    "from zero_iching import uuid_demo as demo\n",
    "\n",
    "from uuid import uuid4 as uuid"
   ]
  },
  {
   "cell_type": "code",
   "execution_count": 19,
   "id": "a6c1f698-5e2c-407f-8094-27b12f2cff73",
   "metadata": {},
   "outputs": [],
   "source": [
    "n = int(np.sqrt(1000*100))\n",
    "X = np.random.choice([0,1], size=n**2).reshape(n, n)\n",
    "_ = write_matrix_html(X, fp_output='/l/tmp/')"
   ]
  },
  {
   "cell_type": "code",
   "execution_count": 21,
   "id": "47168e05-ed78-4419-a6f1-49dcfbd3402a",
   "metadata": {},
   "outputs": [
    {
     "data": {
      "text/plain": [
       "316"
      ]
     },
     "execution_count": 21,
     "metadata": {},
     "output_type": "execute_result"
    }
   ],
   "source": [
    "n"
   ]
  },
  {
   "cell_type": "code",
   "execution_count": 20,
   "id": "33f976f1-2967-4f74-857a-beab28aeb713",
   "metadata": {},
   "outputs": [],
   "source": [
    "import numpy as np\n",
    "from pathlib import Path\n",
    "\n",
    "def write_matrix_html(matrix: np.ndarray, fp_output: str, grid_out_margin=0.15):\n",
    "    \"\"\"Render a responsive, subtly interactive HTML grid from a binary matrix.\n",
    "\n",
    "    Parameters\n",
    "    ----------\n",
    "    matrix : np.ndarray\n",
    "        A square numpy array of 0s and 1s.\n",
    "    fp_output : str\n",
    "        Directory where 'nmatrix.html' will be written.\n",
    "    grid_out_margin : float, optional\n",
    "        Fractional screen margin around grid (0.0 to 0.5). Default is 0.15.\n",
    "    \"\"\"\n",
    "    n = matrix.shape[0]\n",
    "    Path(fp_output).mkdir(parents=True, exist_ok=True)\n",
    "    fp_html = Path(fp_output) / \"nmatrix.html\"\n",
    "\n",
    "    subdued_bg = \"#1e1e2e\"\n",
    "    yin_color = \"#45475a\"\n",
    "    yang_color = \"#cdd6f4\"\n",
    "    hover_yin = \"#6c7086\"\n",
    "    hover_yang = \"#f2cdcd\"\n",
    "\n",
    "    with open(fp_html, \"w\") as f:\n",
    "        f.write(f\"\"\"<!DOCTYPE html>\n",
    "<html lang=\"en\">\n",
    "<head>\n",
    "<meta charset=\"UTF-8\">\n",
    "<title>Matrix of the Dao</title>\n",
    "<style>\n",
    "  :root {{\n",
    "    --cols: {n};\n",
    "    --margin: {grid_out_margin * 100}%;\n",
    "  }}\n",
    "  body {{\n",
    "    background-color: {subdued_bg};\n",
    "    margin: 0;\n",
    "    height: 100vh;\n",
    "    display: flex;\n",
    "    align-items: center;\n",
    "    justify-content: center;\n",
    "  }}\n",
    "  .container {{\n",
    "    width: calc(100vw - 2 * var(--margin));\n",
    "    height: calc(100vh - 2 * var(--margin));\n",
    "    display: grid;\n",
    "    grid-template-columns: repeat(var(--cols), 1fr);\n",
    "    grid-template-rows: repeat(var(--cols), 1fr);\n",
    "    gap: 1px;\n",
    "  }}\n",
    "  .cell {{\n",
    "    width: 100%;\n",
    "    height: 100%;\n",
    "    transition: background-color 0.3s ease;\n",
    "  }}\n",
    "  .cell.yin {{\n",
    "    background-color: {yin_color};\n",
    "  }}\n",
    "  .cell.yang {{\n",
    "    background-color: {yang_color};\n",
    "  }}\n",
    "</style>\n",
    "</head>\n",
    "<body>\n",
    "<div class=\"container\">\n",
    "\"\"\")\n",
    "        # Render cells with JS-accessible data-row/col attributes\n",
    "        for i in range(n):\n",
    "            for j in range(n):\n",
    "                kind = \"yang\" if matrix[i, j] else \"yin\"\n",
    "                f.write(\n",
    "                    f'<div class=\"cell {kind}\" data-row=\"{i}\" data-col=\"{j}\"></div>\\n'\n",
    "                )\n",
    "\n",
    "        f.write(f\"\"\"</div>\n",
    "<script>\n",
    "const grid = document.querySelectorAll(\".cell\");\n",
    "const size = {n};\n",
    "\n",
    "function neighbors(row, col) {{\n",
    "    let out = [];\n",
    "    for (let dr = -1; dr <= 1; dr++) {{\n",
    "        for (let dc = -1; dc <= 1; dc++) {{\n",
    "            if (dr === 0 && dc === 0) continue;\n",
    "            let r = row + dr;\n",
    "            let c = col + dc;\n",
    "            if (r >= 0 && r < size && c >= 0 && c < size) {{\n",
    "                out.push(`[data-row='${{r}}'][data-col='${{c}}']`);\n",
    "            }}\n",
    "        }}\n",
    "    }}\n",
    "    return out;\n",
    "}}\n",
    "\n",
    "function flicker(target, hoverClass, baseClass, delay=300) {{\n",
    "    target.classList.add(hoverClass);\n",
    "    setTimeout(() => {{\n",
    "        target.classList.remove(hoverClass);\n",
    "        target.classList.add(baseClass);\n",
    "    }}, delay);\n",
    "}}\n",
    "\n",
    "grid.forEach(cell => {{\n",
    "    cell.addEventListener(\"mouseover\", () => {{\n",
    "        const row = parseInt(cell.dataset.row);\n",
    "        const col = parseInt(cell.dataset.col);\n",
    "        const isYang = cell.classList.contains(\"yang\");\n",
    "        const hoverClass = isYang ? \"hover-yang\" : \"hover-yin\";\n",
    "        const baseClass = isYang ? \"yang\" : \"yin\";\n",
    "\n",
    "        neighbors(row, col).forEach(sel => {{\n",
    "            if (Math.random() < 0.2) {{\n",
    "                const neighbor = document.querySelector(sel);\n",
    "                if (neighbor) flicker(neighbor, hoverClass, baseClass, 250 + Math.random()*300);\n",
    "            }}\n",
    "        }});\n",
    "    }});\n",
    "}});\n",
    "\n",
    "// Append hover effect styles dynamically\n",
    "const style = document.createElement('style');\n",
    "style.textContent = `\n",
    "  .hover-yin {{ background-color: {hover_yin} !important; }}\n",
    "  .hover-yang {{ background-color: {hover_yang} !important; }}\n",
    "`;\n",
    "document.head.appendChild(style);\n",
    "</script>\n",
    "</body>\n",
    "</html>\n",
    "\"\"\")\n"
   ]
  },
  {
   "cell_type": "code",
   "execution_count": null,
   "id": "dc29a962-691e-427c-8e10-bb36043d8d88",
   "metadata": {},
   "outputs": [],
   "source": []
  },
  {
   "cell_type": "code",
   "execution_count": null,
   "id": "b7470a4f-20d9-4e73-9d71-14bf4e60b95a",
   "metadata": {},
   "outputs": [],
   "source": []
  },
  {
   "cell_type": "code",
   "execution_count": null,
   "id": "24a836ca-e952-444f-95fa-279615d58497",
   "metadata": {},
   "outputs": [],
   "source": []
  },
  {
   "cell_type": "code",
   "execution_count": null,
   "id": "680d259a-2e96-4e92-81b4-d91cb6c9b75c",
   "metadata": {},
   "outputs": [],
   "source": []
  },
  {
   "cell_type": "code",
   "execution_count": null,
   "id": "8ef66377-fa43-4485-a2a4-25da1a4b97d7",
   "metadata": {},
   "outputs": [],
   "source": []
  },
  {
   "cell_type": "code",
   "execution_count": null,
   "id": "a865177b-bc2a-4eac-835b-fdd5e1a38bdb",
   "metadata": {},
   "outputs": [],
   "source": []
  },
  {
   "cell_type": "code",
   "execution_count": null,
   "id": "3057a9fb-9fa9-4f1e-95aa-daf592585d86",
   "metadata": {},
   "outputs": [],
   "source": [
    "hexes(uuid_str=str(uuid()), n=3)"
   ]
  },
  {
   "cell_type": "code",
   "execution_count": null,
   "id": "89deb45c-f1b7-4e64-a92f-a1970036fd6d",
   "metadata": {},
   "outputs": [],
   "source": [
    "from itertools import combinations as comb  \n",
    "\n",
    "HEXAGRAM_NAMES = {                                                              \n",
    "    '111': \"Ch'ien\",     # ☰  Heaven                                            \n",
    "    '000': \"K'un\",       # ☷  Earth                                             \n",
    "    '010': \"K'an\",       # ☵  Water                                             \n",
    "    '101': \"Li\",         # ☲  Fire                                              \n",
    "    '001': \"Chen\",       # ☳  Thunder                                           \n",
    "    '100': \"Ken\",        # ☶  Mountain                                          \n",
    "    '110': \"Sun\",        # ☴  Wind/Wood                                         \n",
    "    '011': \"Tui\",        # ☱  Lake                                              \n",
    "}                                                                               \n",
    "d = {}\n",
    "for k in list(comb(HEXAGRAM_NAMES.keys(), 2)):\n",
    "    d[k] = '<state/change/state paragraphs>'\n",
    "d"
   ]
  },
  {
   "cell_type": "code",
   "execution_count": null,
   "id": "da78bf4a-5177-48bf-8a42-71a7c3f7a4ab",
   "metadata": {},
   "outputs": [],
   "source": [
    "d = {}\n",
    "for x in HEXAGRAM_NAMES:\n",
    "    d[x] = '<5 sentence paragraph which describes this hexagram>'\n",
    "print(d)"
   ]
  },
  {
   "cell_type": "code",
   "execution_count": null,
   "id": "bab8032c-d193-40fc-b167-2f84f4bb2bf1",
   "metadata": {},
   "outputs": [],
   "source": []
  },
  {
   "cell_type": "code",
   "execution_count": null,
   "id": "653b5fc3-97c9-4a5e-a06e-e072813ef61b",
   "metadata": {},
   "outputs": [],
   "source": []
  },
  {
   "cell_type": "code",
   "execution_count": null,
   "id": "52d31e19-b9a9-43e6-b375-87bf68078f79",
   "metadata": {},
   "outputs": [],
   "source": []
  },
  {
   "cell_type": "code",
   "execution_count": null,
   "id": "80a27d3e-69d0-490f-a823-f88f834c6945",
   "metadata": {},
   "outputs": [],
   "source": []
  }
 ],
 "metadata": {
  "kernelspec": {
   "display_name": "Python 3 (ipykernel)",
   "language": "python",
   "name": "python3"
  },
  "language_info": {
   "codemirror_mode": {
    "name": "ipython",
    "version": 3
   },
   "file_extension": ".py",
   "mimetype": "text/x-python",
   "name": "python",
   "nbconvert_exporter": "python",
   "pygments_lexer": "ipython3",
   "version": "3.11.8"
  }
 },
 "nbformat": 4,
 "nbformat_minor": 5
}
