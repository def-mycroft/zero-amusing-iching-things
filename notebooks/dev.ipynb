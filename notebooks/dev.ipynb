{
 "cells": [
  {
   "cell_type": "code",
   "execution_count": 1,
   "id": "ceffeae9-fa15-4c68-a2f1-eb79c59a989b",
   "metadata": {},
   "outputs": [],
   "source": [
    "%load_ext autoreload\n",
    "%autoreload 2"
   ]
  },
  {
   "cell_type": "code",
   "execution_count": 2,
   "id": "9f305a32-13c6-4186-9453-db739ee877e4",
   "metadata": {},
   "outputs": [],
   "source": [
    "from zero_iching.uuid_diviner import hexagrams_from_uuid as hexes\n",
    "from zero_iching import helpers as hp\n",
    "from zero_iching.helpers import HEX_DESC as d\n",
    "from zero_iching import uuid_demo as demo\n",
    "\n",
    "from uuid import uuid4 as uuid"
   ]
  },
  {
   "cell_type": "code",
   "execution_count": 12,
   "id": "7b72c66f-18d9-455e-9faa-af2a51e7b9ef",
   "metadata": {},
   "outputs": [
    {
     "name": "stdout",
     "output_type": "stream",
     "text": [
      "UUID : 44ef126a-4a22-4b03-9a34-1a7ceb2872e9\n",
      "Binary: 01000100111011110001001001101010010010100010001001001011000000111001101000110100000110100111110011101011001010000111001011101001\n",
      "\n",
      "00:010001  01:001110  02:111100  03:010010  04:011010  05:100100  06:101000\n",
      "07:100010  08:010010  09:110000  10:001110  11:011010  12:001101  13:000001\n",
      "14:101001  15:111100  16:111010  17:110010  18:100001  19:110010  20:111010\n",
      "tail:01\n",
      "\n",
      "Hexagram 1 bits [0:6] -> 010001\n",
      "  ☳ over ☵ (Chen/K'an)\n",
      "━━━\n",
      "━ ━\n",
      "━ ━\n",
      "━ ━\n",
      "━━━\n",
      "━ ━\n",
      "\n",
      "Hexagram 2 bits [6:12] -> 001110\n",
      "  ☴ over ☳ (Sun/Chen)\n",
      "━ ━\n",
      "━━━\n",
      "━━━\n",
      "━━━\n",
      "━ ━\n",
      "━ ━\n",
      "\n",
      "Hexagram 3 bits [12:18] -> 111100\n",
      "  ☶ over ☰ (Ken/Ch'ien)\n",
      "━ ━\n",
      "━ ━\n",
      "━━━\n",
      "━━━\n",
      "━━━\n",
      "━━━\n"
     ]
    }
   ],
   "source": [
    "demo.visualize_uuid(str(uuid()), n=3)"
   ]
  },
  {
   "cell_type": "code",
   "execution_count": 6,
   "id": "e2606486-cb89-40a5-be1e-195e90722932",
   "metadata": {},
   "outputs": [
    {
     "data": {
      "text/plain": [
       "128"
      ]
     },
     "execution_count": 6,
     "metadata": {},
     "output_type": "execute_result"
    }
   ],
   "source": [
    "x = '01101010011100100100000101111100011000100111110101000110101010111011000000101010011100011111101101000111110001001101010110000110'\n",
    "len(x)"
   ]
  },
  {
   "cell_type": "code",
   "execution_count": null,
   "id": "33f976f1-2967-4f74-857a-beab28aeb713",
   "metadata": {},
   "outputs": [],
   "source": []
  },
  {
   "cell_type": "code",
   "execution_count": null,
   "id": "b7470a4f-20d9-4e73-9d71-14bf4e60b95a",
   "metadata": {},
   "outputs": [],
   "source": []
  },
  {
   "cell_type": "code",
   "execution_count": null,
   "id": "24a836ca-e952-444f-95fa-279615d58497",
   "metadata": {},
   "outputs": [],
   "source": []
  },
  {
   "cell_type": "code",
   "execution_count": null,
   "id": "680d259a-2e96-4e92-81b4-d91cb6c9b75c",
   "metadata": {},
   "outputs": [],
   "source": []
  },
  {
   "cell_type": "code",
   "execution_count": null,
   "id": "8ef66377-fa43-4485-a2a4-25da1a4b97d7",
   "metadata": {},
   "outputs": [],
   "source": []
  },
  {
   "cell_type": "code",
   "execution_count": null,
   "id": "a865177b-bc2a-4eac-835b-fdd5e1a38bdb",
   "metadata": {},
   "outputs": [],
   "source": []
  },
  {
   "cell_type": "code",
   "execution_count": null,
   "id": "3057a9fb-9fa9-4f1e-95aa-daf592585d86",
   "metadata": {},
   "outputs": [],
   "source": [
    "hexes(uuid_str=str(uuid()), n=3)"
   ]
  },
  {
   "cell_type": "code",
   "execution_count": null,
   "id": "89deb45c-f1b7-4e64-a92f-a1970036fd6d",
   "metadata": {},
   "outputs": [],
   "source": [
    "from itertools import combinations as comb  \n",
    "\n",
    "HEXAGRAM_NAMES = {                                                              \n",
    "    '111': \"Ch'ien\",     # ☰  Heaven                                            \n",
    "    '000': \"K'un\",       # ☷  Earth                                             \n",
    "    '010': \"K'an\",       # ☵  Water                                             \n",
    "    '101': \"Li\",         # ☲  Fire                                              \n",
    "    '001': \"Chen\",       # ☳  Thunder                                           \n",
    "    '100': \"Ken\",        # ☶  Mountain                                          \n",
    "    '110': \"Sun\",        # ☴  Wind/Wood                                         \n",
    "    '011': \"Tui\",        # ☱  Lake                                              \n",
    "}                                                                               \n",
    "d = {}\n",
    "for k in list(comb(HEXAGRAM_NAMES.keys(), 2)):\n",
    "    d[k] = '<state/change/state paragraphs>'\n",
    "d"
   ]
  },
  {
   "cell_type": "code",
   "execution_count": null,
   "id": "da78bf4a-5177-48bf-8a42-71a7c3f7a4ab",
   "metadata": {},
   "outputs": [],
   "source": [
    "d = {}\n",
    "for x in HEXAGRAM_NAMES:\n",
    "    d[x] = '<5 sentence paragraph which describes this hexagram>'\n",
    "print(d)"
   ]
  },
  {
   "cell_type": "code",
   "execution_count": null,
   "id": "bab8032c-d193-40fc-b167-2f84f4bb2bf1",
   "metadata": {},
   "outputs": [],
   "source": []
  },
  {
   "cell_type": "code",
   "execution_count": null,
   "id": "653b5fc3-97c9-4a5e-a06e-e072813ef61b",
   "metadata": {},
   "outputs": [],
   "source": []
  },
  {
   "cell_type": "code",
   "execution_count": null,
   "id": "52d31e19-b9a9-43e6-b375-87bf68078f79",
   "metadata": {},
   "outputs": [],
   "source": []
  },
  {
   "cell_type": "code",
   "execution_count": null,
   "id": "80a27d3e-69d0-490f-a823-f88f834c6945",
   "metadata": {},
   "outputs": [],
   "source": []
  }
 ],
 "metadata": {
  "kernelspec": {
   "display_name": "Python 3 (ipykernel)",
   "language": "python",
   "name": "python3"
  },
  "language_info": {
   "codemirror_mode": {
    "name": "ipython",
    "version": 3
   },
   "file_extension": ".py",
   "mimetype": "text/x-python",
   "name": "python",
   "nbconvert_exporter": "python",
   "pygments_lexer": "ipython3",
   "version": "3.11.8"
  }
 },
 "nbformat": 4,
 "nbformat_minor": 5
}
