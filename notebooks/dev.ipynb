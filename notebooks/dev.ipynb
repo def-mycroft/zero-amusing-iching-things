{
 "cells": [
  {
   "cell_type": "code",
   "execution_count": 2,
   "id": "963bf158-a397-4b70-8ae0-65e8daeea600",
   "metadata": {},
   "outputs": [],
   "source": [
    "from zero_iching.uuid_diviner import hexagrams_from_uuid as hexes\n",
    "from uuid import uuid4 as uuid"
   ]
  },
  {
   "cell_type": "code",
   "execution_count": 12,
   "id": "9a7b1a0b-8316-4243-8703-5093d20934b4",
   "metadata": {},
   "outputs": [
    {
     "name": "stdout",
     "output_type": "stream",
     "text": [
      "---\n",
      "---\n",
      "---\n",
      "---\n",
      "---\n",
      "---\n"
     ]
    }
   ],
   "source": [
    "h = hexes(str(uuid()), n=3)\n",
    "print('\\n'.join(h[0]))"
   ]
  },
  {
   "cell_type": "code",
   "execution_count": null,
   "id": "113787d9-f723-40da-8f14-231c4cd1ed29",
   "metadata": {},
   "outputs": [],
   "source": []
  },
  {
   "cell_type": "code",
   "execution_count": null,
   "id": "3057a9fb-9fa9-4f1e-95aa-daf592585d86",
   "metadata": {},
   "outputs": [],
   "source": []
  },
  {
   "cell_type": "code",
   "execution_count": null,
   "id": "52d31e19-b9a9-43e6-b375-87bf68078f79",
   "metadata": {},
   "outputs": [],
   "source": []
  },
  {
   "cell_type": "code",
   "execution_count": null,
   "id": "80a27d3e-69d0-490f-a823-f88f834c6945",
   "metadata": {},
   "outputs": [],
   "source": []
  }
 ],
 "metadata": {
  "kernelspec": {
   "display_name": "Python 3 (ipykernel)",
   "language": "python",
   "name": "python3"
  },
  "language_info": {
   "codemirror_mode": {
    "name": "ipython",
    "version": 3
   },
   "file_extension": ".py",
   "mimetype": "text/x-python",
   "name": "python",
   "nbconvert_exporter": "python",
   "pygments_lexer": "ipython3",
   "version": "3.11.8"
  }
 },
 "nbformat": 4,
 "nbformat_minor": 5
}
