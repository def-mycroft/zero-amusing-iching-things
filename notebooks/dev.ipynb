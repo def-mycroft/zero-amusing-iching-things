{
 "cells": [
  {
   "cell_type": "code",
   "execution_count": 19,
   "id": "963bf158-a397-4b70-8ae0-65e8daeea600",
   "metadata": {},
   "outputs": [],
   "source": [
    "from zero_iching.uuid_diviner import hexagrams_from_uuid as hexes\n",
    "from uuid import uuid4 as uuid"
   ]
  },
  {
   "cell_type": "code",
   "execution_count": null,
   "id": "7f794ebe-2bbd-4da6-b4c0-e91ce1b02f07",
   "metadata": {},
   "outputs": [],
   "source": []
  },
  {
   "cell_type": "code",
   "execution_count": 47,
   "id": "c63e3e2a-e685-4639-9789-cd4cc082344b",
   "metadata": {},
   "outputs": [],
   "source": [
    "from zero_iching import helpers as hp\n",
    "from zero_iching.helpers import HEX_DESC as d"
   ]
  },
  {
   "cell_type": "code",
   "execution_count": 54,
   "id": "3a7df285-64aa-4d83-8af1-a067fb1edafc",
   "metadata": {},
   "outputs": [
    {
     "data": {
      "text/plain": [
       "['101111', ['101', '111'], '001000', ['001', '000']]"
      ]
     },
     "execution_count": 54,
     "metadata": {},
     "output_type": "execute_result"
    }
   ],
   "source": [
    "x = hexes(str(uuid()), n=2)\n",
    "x"
   ]
  },
  {
   "cell_type": "code",
   "execution_count": 57,
   "id": "03edbc03-2121-40f4-a4ab-9fc635cc9dce",
   "metadata": {},
   "outputs": [
    {
     "data": {
      "text/plain": [
       "\"Ch'ien is the dragon, strength before form, the act of pure creation. Its time is ripe for decisive leadership and great works. But unchecked, it may burn with presumption.\\n\\nAs the movement unfolds, force seeks a vessel. Vision yearns for clarity, action demands structure. The light must find a place to rest, lest it blaze uncontrolled.\\n\\nLi is the flame within a lantern—revealed and contained. Fire grants illumination, but its brilliance is shaped by limits. One who accepts form after force may gain insight without destruction.\""
      ]
     },
     "execution_count": 57,
     "metadata": {},
     "output_type": "execute_result"
    }
   ],
   "source": [
    "hp.HEX_PAIR_DESC[('111', '101')]"
   ]
  },
  {
   "cell_type": "code",
   "execution_count": null,
   "id": "e2606486-cb89-40a5-be1e-195e90722932",
   "metadata": {},
   "outputs": [],
   "source": []
  },
  {
   "cell_type": "code",
   "execution_count": null,
   "id": "33f976f1-2967-4f74-857a-beab28aeb713",
   "metadata": {},
   "outputs": [],
   "source": []
  },
  {
   "cell_type": "code",
   "execution_count": null,
   "id": "b7470a4f-20d9-4e73-9d71-14bf4e60b95a",
   "metadata": {},
   "outputs": [],
   "source": []
  },
  {
   "cell_type": "code",
   "execution_count": null,
   "id": "24a836ca-e952-444f-95fa-279615d58497",
   "metadata": {},
   "outputs": [],
   "source": []
  },
  {
   "cell_type": "code",
   "execution_count": null,
   "id": "680d259a-2e96-4e92-81b4-d91cb6c9b75c",
   "metadata": {},
   "outputs": [],
   "source": []
  },
  {
   "cell_type": "code",
   "execution_count": null,
   "id": "8ef66377-fa43-4485-a2a4-25da1a4b97d7",
   "metadata": {},
   "outputs": [],
   "source": []
  },
  {
   "cell_type": "code",
   "execution_count": null,
   "id": "a865177b-bc2a-4eac-835b-fdd5e1a38bdb",
   "metadata": {},
   "outputs": [],
   "source": []
  },
  {
   "cell_type": "code",
   "execution_count": 20,
   "id": "3057a9fb-9fa9-4f1e-95aa-daf592585d86",
   "metadata": {},
   "outputs": [
    {
     "data": {
      "text/plain": [
       "['010011', ['010', '011'], '110101', ['110', '101'], '011110', ['011', '110']]"
      ]
     },
     "execution_count": 20,
     "metadata": {},
     "output_type": "execute_result"
    }
   ],
   "source": [
    "hexes(uuid_str=str(uuid()), n=3)"
   ]
  },
  {
   "cell_type": "code",
   "execution_count": 16,
   "id": "89deb45c-f1b7-4e64-a92f-a1970036fd6d",
   "metadata": {},
   "outputs": [
    {
     "data": {
      "text/plain": [
       "{('111', '000'): '<state/change/state paragraphs>',\n",
       " ('111', '010'): '<state/change/state paragraphs>',\n",
       " ('111', '101'): '<state/change/state paragraphs>',\n",
       " ('111', '001'): '<state/change/state paragraphs>',\n",
       " ('111', '100'): '<state/change/state paragraphs>',\n",
       " ('111', '110'): '<state/change/state paragraphs>',\n",
       " ('111', '011'): '<state/change/state paragraphs>',\n",
       " ('000', '010'): '<state/change/state paragraphs>',\n",
       " ('000', '101'): '<state/change/state paragraphs>',\n",
       " ('000', '001'): '<state/change/state paragraphs>',\n",
       " ('000', '100'): '<state/change/state paragraphs>',\n",
       " ('000', '110'): '<state/change/state paragraphs>',\n",
       " ('000', '011'): '<state/change/state paragraphs>',\n",
       " ('010', '101'): '<state/change/state paragraphs>',\n",
       " ('010', '001'): '<state/change/state paragraphs>',\n",
       " ('010', '100'): '<state/change/state paragraphs>',\n",
       " ('010', '110'): '<state/change/state paragraphs>',\n",
       " ('010', '011'): '<state/change/state paragraphs>',\n",
       " ('101', '001'): '<state/change/state paragraphs>',\n",
       " ('101', '100'): '<state/change/state paragraphs>',\n",
       " ('101', '110'): '<state/change/state paragraphs>',\n",
       " ('101', '011'): '<state/change/state paragraphs>',\n",
       " ('001', '100'): '<state/change/state paragraphs>',\n",
       " ('001', '110'): '<state/change/state paragraphs>',\n",
       " ('001', '011'): '<state/change/state paragraphs>',\n",
       " ('100', '110'): '<state/change/state paragraphs>',\n",
       " ('100', '011'): '<state/change/state paragraphs>',\n",
       " ('110', '011'): '<state/change/state paragraphs>'}"
      ]
     },
     "execution_count": 16,
     "metadata": {},
     "output_type": "execute_result"
    }
   ],
   "source": [
    "from itertools import combinations as comb  \n",
    "\n",
    "HEXAGRAM_NAMES = {                                                              \n",
    "    '111': \"Ch'ien\",     # ☰  Heaven                                            \n",
    "    '000': \"K'un\",       # ☷  Earth                                             \n",
    "    '010': \"K'an\",       # ☵  Water                                             \n",
    "    '101': \"Li\",         # ☲  Fire                                              \n",
    "    '001': \"Chen\",       # ☳  Thunder                                           \n",
    "    '100': \"Ken\",        # ☶  Mountain                                          \n",
    "    '110': \"Sun\",        # ☴  Wind/Wood                                         \n",
    "    '011': \"Tui\",        # ☱  Lake                                              \n",
    "}                                                                               \n",
    "d = {}\n",
    "for k in list(comb(HEXAGRAM_NAMES.keys(), 2)):\n",
    "    d[k] = '<state/change/state paragraphs>'\n",
    "d"
   ]
  },
  {
   "cell_type": "code",
   "execution_count": 18,
   "id": "da78bf4a-5177-48bf-8a42-71a7c3f7a4ab",
   "metadata": {},
   "outputs": [
    {
     "name": "stdout",
     "output_type": "stream",
     "text": [
      "{'111': '<5 sentence paragraph which describes this hexagram>', '000': '<5 sentence paragraph which describes this hexagram>', '010': '<5 sentence paragraph which describes this hexagram>', '101': '<5 sentence paragraph which describes this hexagram>', '001': '<5 sentence paragraph which describes this hexagram>', '100': '<5 sentence paragraph which describes this hexagram>', '110': '<5 sentence paragraph which describes this hexagram>', '011': '<5 sentence paragraph which describes this hexagram>'}\n"
     ]
    }
   ],
   "source": [
    "d = {}\n",
    "for x in HEXAGRAM_NAMES:\n",
    "    d[x] = '<5 sentence paragraph which describes this hexagram>'\n",
    "print(d)"
   ]
  },
  {
   "cell_type": "code",
   "execution_count": null,
   "id": "bab8032c-d193-40fc-b167-2f84f4bb2bf1",
   "metadata": {},
   "outputs": [],
   "source": []
  },
  {
   "cell_type": "code",
   "execution_count": null,
   "id": "653b5fc3-97c9-4a5e-a06e-e072813ef61b",
   "metadata": {},
   "outputs": [],
   "source": []
  },
  {
   "cell_type": "code",
   "execution_count": null,
   "id": "52d31e19-b9a9-43e6-b375-87bf68078f79",
   "metadata": {},
   "outputs": [],
   "source": []
  },
  {
   "cell_type": "code",
   "execution_count": null,
   "id": "80a27d3e-69d0-490f-a823-f88f834c6945",
   "metadata": {},
   "outputs": [],
   "source": []
  }
 ],
 "metadata": {
  "kernelspec": {
   "display_name": "Python 3 (ipykernel)",
   "language": "python",
   "name": "python3"
  },
  "language_info": {
   "codemirror_mode": {
    "name": "ipython",
    "version": 3
   },
   "file_extension": ".py",
   "mimetype": "text/x-python",
   "name": "python",
   "nbconvert_exporter": "python",
   "pygments_lexer": "ipython3",
   "version": "3.11.8"
  }
 },
 "nbformat": 4,
 "nbformat_minor": 5
}
